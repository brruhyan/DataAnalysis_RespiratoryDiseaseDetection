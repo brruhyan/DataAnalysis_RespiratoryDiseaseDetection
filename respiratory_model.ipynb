{
  "nbformat": 4,
  "nbformat_minor": 0,
  "metadata": {
    "colab": {
      "provenance": []
    },
    "kernelspec": {
      "name": "python3",
      "display_name": "Python 3"
    },
    "language_info": {
      "name": "python"
    }
  },
  "cells": [
    {
      "cell_type": "markdown",
      "source": [
        "Data Analysis Personal Project | Respiratory Disease Detection\n",
        "--- | ---\n",
        "<hr> | <hr>\n",
        "**Name** | de Leon, Bryan Paul <br>\n",
        "**Date** | May 28, 2024\n"
      ],
      "metadata": {
        "id": "Ie6NBT0R93ol"
      }
    },
    {
      "cell_type": "markdown",
      "source": [
        "# PART 1: The Dataset\n",
        "\n",
        "**About the Project**\n",
        "- A personal project wherein I developed and trained a Convolution Neural Network for the purpose of being able to insert images through Streamlit, the model will then determine if the X-ray image inserted into the app displays sign of a Respiratory Condition.\n",
        "\n",
        "**Dataset Source**\n",
        "- [Respiratory Image Dataset](https://www.kaggle.com/datasets/fatemehmehrparvar/lung-disease)"
      ],
      "metadata": {
        "id": "0ZLaY15s_jYX"
      }
    },
    {
      "cell_type": "code",
      "source": [
        "#importing necessary libraries\n",
        "\n",
        "from sklearn.metrics import confusion_matrix\n",
        "from keras.models import Sequential\n",
        "from keras.layers import Dense, Input, Activation\n",
        "from keras.utils import to_categorical\n",
        "import pandas as pd\n",
        "import matplotlib.pyplot as plt\n",
        "import zipfile\n",
        "import os"
      ],
      "metadata": {
        "id": "yrlawv1L_im8"
      },
      "execution_count": 1,
      "outputs": []
    },
    {
      "cell_type": "code",
      "source": [
        "#mounting the dataset into colab\n",
        "\n",
        "from google.colab import drive\n",
        "drive.mount('/content/drive')"
      ],
      "metadata": {
        "id": "I2c39wO4AGYu",
        "colab": {
          "base_uri": "https://localhost:8080/"
        },
        "outputId": "aaa7b63d-0f47-4ebc-c80d-8c31cb3200f6"
      },
      "execution_count": 2,
      "outputs": [
        {
          "output_type": "stream",
          "name": "stdout",
          "text": [
            "Drive already mounted at /content/drive; to attempt to forcibly remount, call drive.mount(\"/content/drive\", force_remount=True).\n"
          ]
        }
      ]
    },
    {
      "cell_type": "code",
      "source": [
        "#navigating to the dataset\n",
        "\n",
        "data_directory_train = ('//content/drive/MyDrive/DATASET/RESPIRATORY')\n",
        "filepaths = []\n",
        "labels = []\n",
        "folds = os.listdir(data_directory_train)\n",
        "\n",
        "for fold in folds:\n",
        "  fold_path = os.path.join(data_directory_train, fold)\n",
        "  filelists = os.listdir(fold_path)\n",
        "\n",
        "  for file in filelists:\n",
        "    file_path = os.path.join(fold_path, file)\n",
        "\n",
        "    filepaths.append(file_path)\n",
        "    labels.append(fold)"
      ],
      "metadata": {
        "id": "ldpffTpAAZKZ"
      },
      "execution_count": 3,
      "outputs": []
    },
    {
      "cell_type": "code",
      "source": [
        "#storing the images into a dataframe for training data\n",
        "\n",
        "Fdata_train = pd.Series(filepaths, name = 'filename')\n",
        "Ldata_train = pd.Series(labels, name = 'label')\n",
        "\n",
        "respiratoryFrame = pd.concat([Fdata_train, Ldata_train], axis = 1)\n"
      ],
      "metadata": {
        "id": "3H18AALeAz9F"
      },
      "execution_count": 4,
      "outputs": []
    },
    {
      "cell_type": "code",
      "source": [
        "#verfying changes for training set\n",
        "\n",
        "respiratoryFrame.head()"
      ],
      "metadata": {
        "colab": {
          "base_uri": "https://localhost:8080/",
          "height": 206
        },
        "id": "7pYaOVvkDz5Q",
        "outputId": "400b73c4-c297-438e-df18-d817cbf65446"
      },
      "execution_count": 5,
      "outputs": [
        {
          "output_type": "execute_result",
          "data": {
            "text/plain": [
              "                                            filename            label\n",
              "0  //content/drive/MyDrive/DATASET/RESPIRATORY/Vi...  Viral Pneumonia\n",
              "1  //content/drive/MyDrive/DATASET/RESPIRATORY/Vi...  Viral Pneumonia\n",
              "2  //content/drive/MyDrive/DATASET/RESPIRATORY/Vi...  Viral Pneumonia\n",
              "3  //content/drive/MyDrive/DATASET/RESPIRATORY/Vi...  Viral Pneumonia\n",
              "4  //content/drive/MyDrive/DATASET/RESPIRATORY/Vi...  Viral Pneumonia"
            ],
            "text/html": [
              "\n",
              "  <div id=\"df-6496eaab-3232-45d5-90d1-035df60732a0\" class=\"colab-df-container\">\n",
              "    <div>\n",
              "<style scoped>\n",
              "    .dataframe tbody tr th:only-of-type {\n",
              "        vertical-align: middle;\n",
              "    }\n",
              "\n",
              "    .dataframe tbody tr th {\n",
              "        vertical-align: top;\n",
              "    }\n",
              "\n",
              "    .dataframe thead th {\n",
              "        text-align: right;\n",
              "    }\n",
              "</style>\n",
              "<table border=\"1\" class=\"dataframe\">\n",
              "  <thead>\n",
              "    <tr style=\"text-align: right;\">\n",
              "      <th></th>\n",
              "      <th>filename</th>\n",
              "      <th>label</th>\n",
              "    </tr>\n",
              "  </thead>\n",
              "  <tbody>\n",
              "    <tr>\n",
              "      <th>0</th>\n",
              "      <td>//content/drive/MyDrive/DATASET/RESPIRATORY/Vi...</td>\n",
              "      <td>Viral Pneumonia</td>\n",
              "    </tr>\n",
              "    <tr>\n",
              "      <th>1</th>\n",
              "      <td>//content/drive/MyDrive/DATASET/RESPIRATORY/Vi...</td>\n",
              "      <td>Viral Pneumonia</td>\n",
              "    </tr>\n",
              "    <tr>\n",
              "      <th>2</th>\n",
              "      <td>//content/drive/MyDrive/DATASET/RESPIRATORY/Vi...</td>\n",
              "      <td>Viral Pneumonia</td>\n",
              "    </tr>\n",
              "    <tr>\n",
              "      <th>3</th>\n",
              "      <td>//content/drive/MyDrive/DATASET/RESPIRATORY/Vi...</td>\n",
              "      <td>Viral Pneumonia</td>\n",
              "    </tr>\n",
              "    <tr>\n",
              "      <th>4</th>\n",
              "      <td>//content/drive/MyDrive/DATASET/RESPIRATORY/Vi...</td>\n",
              "      <td>Viral Pneumonia</td>\n",
              "    </tr>\n",
              "  </tbody>\n",
              "</table>\n",
              "</div>\n",
              "    <div class=\"colab-df-buttons\">\n",
              "\n",
              "  <div class=\"colab-df-container\">\n",
              "    <button class=\"colab-df-convert\" onclick=\"convertToInteractive('df-6496eaab-3232-45d5-90d1-035df60732a0')\"\n",
              "            title=\"Convert this dataframe to an interactive table.\"\n",
              "            style=\"display:none;\">\n",
              "\n",
              "  <svg xmlns=\"http://www.w3.org/2000/svg\" height=\"24px\" viewBox=\"0 -960 960 960\">\n",
              "    <path d=\"M120-120v-720h720v720H120Zm60-500h600v-160H180v160Zm220 220h160v-160H400v160Zm0 220h160v-160H400v160ZM180-400h160v-160H180v160Zm440 0h160v-160H620v160ZM180-180h160v-160H180v160Zm440 0h160v-160H620v160Z\"/>\n",
              "  </svg>\n",
              "    </button>\n",
              "\n",
              "  <style>\n",
              "    .colab-df-container {\n",
              "      display:flex;\n",
              "      gap: 12px;\n",
              "    }\n",
              "\n",
              "    .colab-df-convert {\n",
              "      background-color: #E8F0FE;\n",
              "      border: none;\n",
              "      border-radius: 50%;\n",
              "      cursor: pointer;\n",
              "      display: none;\n",
              "      fill: #1967D2;\n",
              "      height: 32px;\n",
              "      padding: 0 0 0 0;\n",
              "      width: 32px;\n",
              "    }\n",
              "\n",
              "    .colab-df-convert:hover {\n",
              "      background-color: #E2EBFA;\n",
              "      box-shadow: 0px 1px 2px rgba(60, 64, 67, 0.3), 0px 1px 3px 1px rgba(60, 64, 67, 0.15);\n",
              "      fill: #174EA6;\n",
              "    }\n",
              "\n",
              "    .colab-df-buttons div {\n",
              "      margin-bottom: 4px;\n",
              "    }\n",
              "\n",
              "    [theme=dark] .colab-df-convert {\n",
              "      background-color: #3B4455;\n",
              "      fill: #D2E3FC;\n",
              "    }\n",
              "\n",
              "    [theme=dark] .colab-df-convert:hover {\n",
              "      background-color: #434B5C;\n",
              "      box-shadow: 0px 1px 3px 1px rgba(0, 0, 0, 0.15);\n",
              "      filter: drop-shadow(0px 1px 2px rgba(0, 0, 0, 0.3));\n",
              "      fill: #FFFFFF;\n",
              "    }\n",
              "  </style>\n",
              "\n",
              "    <script>\n",
              "      const buttonEl =\n",
              "        document.querySelector('#df-6496eaab-3232-45d5-90d1-035df60732a0 button.colab-df-convert');\n",
              "      buttonEl.style.display =\n",
              "        google.colab.kernel.accessAllowed ? 'block' : 'none';\n",
              "\n",
              "      async function convertToInteractive(key) {\n",
              "        const element = document.querySelector('#df-6496eaab-3232-45d5-90d1-035df60732a0');\n",
              "        const dataTable =\n",
              "          await google.colab.kernel.invokeFunction('convertToInteractive',\n",
              "                                                    [key], {});\n",
              "        if (!dataTable) return;\n",
              "\n",
              "        const docLinkHtml = 'Like what you see? Visit the ' +\n",
              "          '<a target=\"_blank\" href=https://colab.research.google.com/notebooks/data_table.ipynb>data table notebook</a>'\n",
              "          + ' to learn more about interactive tables.';\n",
              "        element.innerHTML = '';\n",
              "        dataTable['output_type'] = 'display_data';\n",
              "        await google.colab.output.renderOutput(dataTable, element);\n",
              "        const docLink = document.createElement('div');\n",
              "        docLink.innerHTML = docLinkHtml;\n",
              "        element.appendChild(docLink);\n",
              "      }\n",
              "    </script>\n",
              "  </div>\n",
              "\n",
              "\n",
              "<div id=\"df-ad405e49-e061-43e3-bf12-418b0c4778a2\">\n",
              "  <button class=\"colab-df-quickchart\" onclick=\"quickchart('df-ad405e49-e061-43e3-bf12-418b0c4778a2')\"\n",
              "            title=\"Suggest charts\"\n",
              "            style=\"display:none;\">\n",
              "\n",
              "<svg xmlns=\"http://www.w3.org/2000/svg\" height=\"24px\"viewBox=\"0 0 24 24\"\n",
              "     width=\"24px\">\n",
              "    <g>\n",
              "        <path d=\"M19 3H5c-1.1 0-2 .9-2 2v14c0 1.1.9 2 2 2h14c1.1 0 2-.9 2-2V5c0-1.1-.9-2-2-2zM9 17H7v-7h2v7zm4 0h-2V7h2v10zm4 0h-2v-4h2v4z\"/>\n",
              "    </g>\n",
              "</svg>\n",
              "  </button>\n",
              "\n",
              "<style>\n",
              "  .colab-df-quickchart {\n",
              "      --bg-color: #E8F0FE;\n",
              "      --fill-color: #1967D2;\n",
              "      --hover-bg-color: #E2EBFA;\n",
              "      --hover-fill-color: #174EA6;\n",
              "      --disabled-fill-color: #AAA;\n",
              "      --disabled-bg-color: #DDD;\n",
              "  }\n",
              "\n",
              "  [theme=dark] .colab-df-quickchart {\n",
              "      --bg-color: #3B4455;\n",
              "      --fill-color: #D2E3FC;\n",
              "      --hover-bg-color: #434B5C;\n",
              "      --hover-fill-color: #FFFFFF;\n",
              "      --disabled-bg-color: #3B4455;\n",
              "      --disabled-fill-color: #666;\n",
              "  }\n",
              "\n",
              "  .colab-df-quickchart {\n",
              "    background-color: var(--bg-color);\n",
              "    border: none;\n",
              "    border-radius: 50%;\n",
              "    cursor: pointer;\n",
              "    display: none;\n",
              "    fill: var(--fill-color);\n",
              "    height: 32px;\n",
              "    padding: 0;\n",
              "    width: 32px;\n",
              "  }\n",
              "\n",
              "  .colab-df-quickchart:hover {\n",
              "    background-color: var(--hover-bg-color);\n",
              "    box-shadow: 0 1px 2px rgba(60, 64, 67, 0.3), 0 1px 3px 1px rgba(60, 64, 67, 0.15);\n",
              "    fill: var(--button-hover-fill-color);\n",
              "  }\n",
              "\n",
              "  .colab-df-quickchart-complete:disabled,\n",
              "  .colab-df-quickchart-complete:disabled:hover {\n",
              "    background-color: var(--disabled-bg-color);\n",
              "    fill: var(--disabled-fill-color);\n",
              "    box-shadow: none;\n",
              "  }\n",
              "\n",
              "  .colab-df-spinner {\n",
              "    border: 2px solid var(--fill-color);\n",
              "    border-color: transparent;\n",
              "    border-bottom-color: var(--fill-color);\n",
              "    animation:\n",
              "      spin 1s steps(1) infinite;\n",
              "  }\n",
              "\n",
              "  @keyframes spin {\n",
              "    0% {\n",
              "      border-color: transparent;\n",
              "      border-bottom-color: var(--fill-color);\n",
              "      border-left-color: var(--fill-color);\n",
              "    }\n",
              "    20% {\n",
              "      border-color: transparent;\n",
              "      border-left-color: var(--fill-color);\n",
              "      border-top-color: var(--fill-color);\n",
              "    }\n",
              "    30% {\n",
              "      border-color: transparent;\n",
              "      border-left-color: var(--fill-color);\n",
              "      border-top-color: var(--fill-color);\n",
              "      border-right-color: var(--fill-color);\n",
              "    }\n",
              "    40% {\n",
              "      border-color: transparent;\n",
              "      border-right-color: var(--fill-color);\n",
              "      border-top-color: var(--fill-color);\n",
              "    }\n",
              "    60% {\n",
              "      border-color: transparent;\n",
              "      border-right-color: var(--fill-color);\n",
              "    }\n",
              "    80% {\n",
              "      border-color: transparent;\n",
              "      border-right-color: var(--fill-color);\n",
              "      border-bottom-color: var(--fill-color);\n",
              "    }\n",
              "    90% {\n",
              "      border-color: transparent;\n",
              "      border-bottom-color: var(--fill-color);\n",
              "    }\n",
              "  }\n",
              "</style>\n",
              "\n",
              "  <script>\n",
              "    async function quickchart(key) {\n",
              "      const quickchartButtonEl =\n",
              "        document.querySelector('#' + key + ' button');\n",
              "      quickchartButtonEl.disabled = true;  // To prevent multiple clicks.\n",
              "      quickchartButtonEl.classList.add('colab-df-spinner');\n",
              "      try {\n",
              "        const charts = await google.colab.kernel.invokeFunction(\n",
              "            'suggestCharts', [key], {});\n",
              "      } catch (error) {\n",
              "        console.error('Error during call to suggestCharts:', error);\n",
              "      }\n",
              "      quickchartButtonEl.classList.remove('colab-df-spinner');\n",
              "      quickchartButtonEl.classList.add('colab-df-quickchart-complete');\n",
              "    }\n",
              "    (() => {\n",
              "      let quickchartButtonEl =\n",
              "        document.querySelector('#df-ad405e49-e061-43e3-bf12-418b0c4778a2 button');\n",
              "      quickchartButtonEl.style.display =\n",
              "        google.colab.kernel.accessAllowed ? 'block' : 'none';\n",
              "    })();\n",
              "  </script>\n",
              "</div>\n",
              "    </div>\n",
              "  </div>\n"
            ],
            "application/vnd.google.colaboratory.intrinsic+json": {
              "type": "dataframe",
              "variable_name": "respiratoryFrame",
              "summary": "{\n  \"name\": \"respiratoryFrame\",\n  \"rows\": 2350,\n  \"fields\": [\n    {\n      \"column\": \"filename\",\n      \"properties\": {\n        \"dtype\": \"string\",\n        \"num_unique_values\": 2350,\n        \"samples\": [\n          \"//content/drive/MyDrive/DATASET/RESPIRATORY/Normal/1231.jpg\",\n          \"//content/drive/MyDrive/DATASET/RESPIRATORY/Viral Pneumonia/635.jpg\",\n          \"//content/drive/MyDrive/DATASET/RESPIRATORY/Normal/654.jpg\"\n        ],\n        \"semantic_type\": \"\",\n        \"description\": \"\"\n      }\n    },\n    {\n      \"column\": \"label\",\n      \"properties\": {\n        \"dtype\": \"category\",\n        \"num_unique_values\": 2,\n        \"samples\": [\n          \"Normal\",\n          \"Viral Pneumonia\"\n        ],\n        \"semantic_type\": \"\",\n        \"description\": \"\"\n      }\n    }\n  ]\n}"
            }
          },
          "metadata": {},
          "execution_count": 5
        }
      ]
    },
    {
      "cell_type": "code",
      "source": [
        "respiratoryFrame.info()"
      ],
      "metadata": {
        "colab": {
          "base_uri": "https://localhost:8080/"
        },
        "id": "Mjb03VNhGdlO",
        "outputId": "5e5d4c15-49de-4b50-c0c2-4fc61c392efc"
      },
      "execution_count": 6,
      "outputs": [
        {
          "output_type": "stream",
          "name": "stdout",
          "text": [
            "<class 'pandas.core.frame.DataFrame'>\n",
            "RangeIndex: 2350 entries, 0 to 2349\n",
            "Data columns (total 2 columns):\n",
            " #   Column    Non-Null Count  Dtype \n",
            "---  ------    --------------  ----- \n",
            " 0   filename  2350 non-null   object\n",
            " 1   label     2350 non-null   object\n",
            "dtypes: object(2)\n",
            "memory usage: 36.8+ KB\n"
          ]
        }
      ]
    },
    {
      "cell_type": "markdown",
      "source": [
        "# PART 2: Data Processing"
      ],
      "metadata": {
        "id": "giOePuEEB0lm"
      }
    },
    {
      "cell_type": "code",
      "source": [
        "#importing necessary libraries\n",
        "\n",
        "from sklearn.model_selection import train_test_split\n",
        "from keras.preprocessing.image import ImageDataGenerator\n"
      ],
      "metadata": {
        "id": "LBDY8XVmB8X3"
      },
      "execution_count": 7,
      "outputs": []
    },
    {
      "cell_type": "code",
      "source": [
        "#splitting the data into training and testing\n",
        "\n",
        "train_data, dummy_data = train_test_split(respiratoryFrame, train_size = 0.4, shuffle = True, random_state = 42,\n",
        "                                          stratify = respiratoryFrame['label'] )\n",
        "\n",
        "valid_data, test_data = train_test_split(dummy_data, train_size = 0.4, shuffle = True, random_state = 42,\n",
        "                                         stratify = dummy_data['label'])"
      ],
      "metadata": {
        "id": "WXXp5A63CgC8"
      },
      "execution_count": 8,
      "outputs": []
    },
    {
      "cell_type": "code",
      "source": [
        "#performing image augmentation\n",
        "\n",
        "datagen = ImageDataGenerator(\n",
        "\n",
        "    rescale=1./255,\n",
        "    rotation_range=20,\n",
        "    width_shift_range=0.2,\n",
        "    height_shift_range=0.2,\n",
        "    shear_range=0.2,\n",
        "    zoom_range=0.2,\n",
        "    horizontal_flip=True,\n",
        "\n",
        ")"
      ],
      "metadata": {
        "id": "KVBNrZ5ZKs9k"
      },
      "execution_count": 9,
      "outputs": []
    },
    {
      "cell_type": "code",
      "source": [
        "#applying image augmentation into the datasets\n",
        "\n",
        "train_generator = datagen.flow_from_dataframe(\n",
        "    dataframe = train_data,\n",
        "    x_col='filename',\n",
        "    y_col='label',\n",
        "    featurewise_center=True,\n",
        "    zca_whitening = True,\n",
        "    target_size=(150,150),\n",
        "    batch_size=128,\n",
        "    class_mode='categorical'\n",
        ")\n",
        "\n",
        "valid_generator = datagen.flow_from_dataframe(\n",
        "    dataframe=valid_data,\n",
        "    x_col='filename',\n",
        "    y_col='label',\n",
        "    target_size=(150,150),\n",
        "    batch_size=128,\n",
        "    class_mode='categorical'\n",
        ")\n",
        "\n",
        "test_generator = datagen.flow_from_dataframe(\n",
        "    dataframe=test_data,\n",
        "    x_col='filename',\n",
        "    y_col='label',\n",
        "    target_size=(150,150),\n",
        "    batch_size=128,\n",
        "    class_mode='categorical',\n",
        "    shuffle=False\n",
        ")"
      ],
      "metadata": {
        "colab": {
          "base_uri": "https://localhost:8080/"
        },
        "id": "LUNIE3MDMP0W",
        "outputId": "d6b5c64a-cbad-4ada-c4dd-4993b5f33896"
      },
      "execution_count": 10,
      "outputs": [
        {
          "output_type": "stream",
          "name": "stdout",
          "text": [
            "Found 940 validated image filenames belonging to 2 classes.\n",
            "Found 564 validated image filenames belonging to 2 classes.\n",
            "Found 846 validated image filenames belonging to 2 classes.\n"
          ]
        }
      ]
    },
    {
      "cell_type": "markdown",
      "source": [
        "# PART 3: Creating the CNN Model"
      ],
      "metadata": {
        "id": "Qn0EhtXwNUpP"
      }
    },
    {
      "cell_type": "code",
      "source": [
        "#importing necessary libraries\n",
        "\n",
        "from keras.models import Sequential\n",
        "from keras.layers import Conv2D, MaxPooling2D, Flatten, Dense, Dropout\n",
        "from keras.optimizers import SGD, Adam"
      ],
      "metadata": {
        "id": "YqhzGptfNZmU"
      },
      "execution_count": 11,
      "outputs": []
    },
    {
      "cell_type": "code",
      "source": [
        "#defining the CNN Model\n",
        "\n",
        "model = Sequential([\n",
        "    Conv2D(256, (2, 2), activation='relu', kernel_initializer='he_uniform', input_shape=(150,150,3)),\n",
        "    MaxPooling2D((3, 3)),\n",
        "    Conv2D(128, (2, 2), activation='relu', kernel_initializer='he_uniform'),\n",
        "    MaxPooling2D((3, 3)),\n",
        "    Dropout(0.2),\n",
        "    Flatten(),\n",
        "    Dense(256, activation='relu'),\n",
        "    Dense(256, activation='relu'),\n",
        "    Dense(32, activation='relu'),\n",
        "    Dense(2, activation='sigmoid') # 2 output layer for 2 categories\n",
        "])"
      ],
      "metadata": {
        "id": "wHlb-QPMPGvV"
      },
      "execution_count": 13,
      "outputs": []
    },
    {
      "cell_type": "code",
      "source": [
        "#compiling the model\n",
        "\n",
        "model.compile(optimizer = 'adam', loss = 'categorical_crossentropy', metrics = ['accuracy'])\n",
        "\n",
        "#fitting the model\n",
        "\n",
        "hist = model.fit(\n",
        "    train_generator,\n",
        "    steps_per_epoch = len(train_generator),\n",
        "    epochs = 15,\n",
        "    validation_data = valid_generator,\n",
        "    validation_steps = len(valid_generator)\n",
        ")"
      ],
      "metadata": {
        "colab": {
          "base_uri": "https://localhost:8080/"
        },
        "id": "Z3zstRmyPct-",
        "outputId": "5e5b08de-d0b9-4059-bed1-fa2f75c6bdc0"
      },
      "execution_count": 14,
      "outputs": [
        {
          "output_type": "stream",
          "name": "stdout",
          "text": [
            "Epoch 1/15\n",
            "8/8 [==============================] - 161s 20s/step - loss: 1.3164 - accuracy: 0.5053 - val_loss: 0.6595 - val_accuracy: 0.5319\n",
            "Epoch 2/15\n",
            "8/8 [==============================] - 160s 20s/step - loss: 0.5616 - accuracy: 0.7000 - val_loss: 0.3881 - val_accuracy: 0.8475\n",
            "Epoch 3/15\n",
            "8/8 [==============================] - 140s 18s/step - loss: 0.3577 - accuracy: 0.8457 - val_loss: 0.3509 - val_accuracy: 0.8528\n",
            "Epoch 4/15\n",
            "8/8 [==============================] - 159s 19s/step - loss: 0.3072 - accuracy: 0.8723 - val_loss: 0.3275 - val_accuracy: 0.8635\n",
            "Epoch 5/15\n",
            "8/8 [==============================] - 159s 22s/step - loss: 0.2787 - accuracy: 0.8872 - val_loss: 0.2896 - val_accuracy: 0.8830\n",
            "Epoch 6/15\n",
            "8/8 [==============================] - 143s 18s/step - loss: 0.2455 - accuracy: 0.9011 - val_loss: 0.2908 - val_accuracy: 0.8830\n",
            "Epoch 7/15\n",
            "8/8 [==============================] - 142s 19s/step - loss: 0.2359 - accuracy: 0.9032 - val_loss: 0.2490 - val_accuracy: 0.8972\n",
            "Epoch 8/15\n",
            "8/8 [==============================] - 146s 18s/step - loss: 0.2258 - accuracy: 0.9021 - val_loss: 0.2252 - val_accuracy: 0.9202\n",
            "Epoch 9/15\n",
            "8/8 [==============================] - 142s 18s/step - loss: 0.2132 - accuracy: 0.9181 - val_loss: 0.3056 - val_accuracy: 0.8777\n",
            "Epoch 10/15\n",
            "8/8 [==============================] - 158s 20s/step - loss: 0.2582 - accuracy: 0.9000 - val_loss: 0.2809 - val_accuracy: 0.8848\n",
            "Epoch 11/15\n",
            "8/8 [==============================] - 160s 20s/step - loss: 0.2263 - accuracy: 0.9064 - val_loss: 0.1874 - val_accuracy: 0.9309\n",
            "Epoch 12/15\n",
            "8/8 [==============================] - 160s 20s/step - loss: 0.1917 - accuracy: 0.9277 - val_loss: 0.1964 - val_accuracy: 0.9167\n",
            "Epoch 13/15\n",
            "8/8 [==============================] - 146s 18s/step - loss: 0.1818 - accuracy: 0.9340 - val_loss: 0.2258 - val_accuracy: 0.9167\n",
            "Epoch 14/15\n",
            "8/8 [==============================] - 139s 17s/step - loss: 0.1867 - accuracy: 0.9362 - val_loss: 0.1951 - val_accuracy: 0.9344\n",
            "Epoch 15/15\n",
            "8/8 [==============================] - 139s 17s/step - loss: 0.1589 - accuracy: 0.9415 - val_loss: 0.2495 - val_accuracy: 0.9184\n"
          ]
        }
      ]
    },
    {
      "cell_type": "code",
      "source": [
        "#evaluate the performance of the model\n",
        "\n",
        "model.evaluate(test_generator)"
      ],
      "metadata": {
        "colab": {
          "base_uri": "https://localhost:8080/"
        },
        "id": "lY4hCEBSejKv",
        "outputId": "b1db9924-b051-4b72-d47a-14484544ff10"
      },
      "execution_count": 15,
      "outputs": [
        {
          "output_type": "stream",
          "name": "stdout",
          "text": [
            "7/7 [==============================] - 37s 5s/step - loss: 0.1961 - accuracy: 0.9255\n"
          ]
        },
        {
          "output_type": "execute_result",
          "data": {
            "text/plain": [
              "[0.196145698428154, 0.9255319237709045]"
            ]
          },
          "metadata": {},
          "execution_count": 15
        }
      ]
    },
    {
      "cell_type": "code",
      "source": [
        "model.evaluate(valid_generator)"
      ],
      "metadata": {
        "colab": {
          "base_uri": "https://localhost:8080/"
        },
        "id": "6mYRGpZCe3T5",
        "outputId": "03bb66de-66c2-4d78-d1f8-03191913e56f"
      },
      "execution_count": 16,
      "outputs": [
        {
          "output_type": "stream",
          "name": "stdout",
          "text": [
            "5/5 [==============================] - 24s 4s/step - loss: 0.2056 - accuracy: 0.9255\n"
          ]
        },
        {
          "output_type": "execute_result",
          "data": {
            "text/plain": [
              "[0.20561489462852478, 0.9255319237709045]"
            ]
          },
          "metadata": {},
          "execution_count": 16
        }
      ]
    },
    {
      "cell_type": "code",
      "source": [
        "#plotting the training and testing\n",
        "\n",
        "hist.history.keys()\n",
        "\n",
        "plt.plot(hist.history['accuracy'], label = 'accuracy')\n",
        "plt.plot(hist.history['val_accuracy'], label = 'validation accuracy')\n",
        "\n",
        "plt.legend()\n",
        "plt.show()"
      ],
      "metadata": {
        "colab": {
          "base_uri": "https://localhost:8080/",
          "height": 430
        },
        "id": "4zRlxv6cQ22W",
        "outputId": "972f05fa-a2bb-43bc-cbff-45a9d892f37c"
      },
      "execution_count": 17,
      "outputs": [
        {
          "output_type": "display_data",
          "data": {
            "text/plain": [
              "<Figure size 640x480 with 1 Axes>"
            ],
            "image/png": "[encoded data removed]"
          },
          "metadata": {}
        }
      ]
    },
    {
      "cell_type": "markdown",
      "source": [
        "# PART 4: Saving Model"
      ],
      "metadata": {
        "id": "uKYc9K_3Ki0f"
      }
    },
    {
      "cell_type": "code",
      "source": [
        "#importing libraries\n",
        "\n",
        "!pip install h5py\n",
        "from keras.models import load_model, save_model\n",
        "\n",
        "#saving the model that we made into hdf5 format\n",
        "\n",
        "model.save('respiratory_trained.h5')"
      ],
      "metadata": {
        "colab": {
          "base_uri": "https://localhost:8080/"
        },
        "id": "x2hzT8RnK4xO",
        "outputId": "bae66a00-6c24-4fed-a520-c2d3f5881abe"
      },
      "execution_count": 18,
      "outputs": [
        {
          "output_type": "stream",
          "name": "stdout",
          "text": [
            "Requirement already satisfied: h5py in /usr/local/lib/python3.10/dist-packages (3.9.0)\n",
            "Requirement already satisfied: numpy>=1.17.3 in /usr/local/lib/python3.10/dist-packages (from h5py) (1.25.2)\n"
          ]
        },
        {
          "output_type": "stream",
          "name": "stderr",
          "text": [
            "/usr/local/lib/python3.10/dist-packages/keras/src/engine/training.py:3103: UserWarning: You are saving your model as an HDF5 file via `model.save()`. This file format is considered legacy. We recommend using instead the native Keras format, e.g. `model.save('my_model.keras')`.\n",
            "  saving_api.save_model(\n"
          ]
        }
      ]
    },
    {
      "cell_type": "markdown",
      "source": [
        "# PART 5: Model Deployment\n",
        "\n"
      ],
      "metadata": {
        "id": "PorqstE5b9Q3"
      }
    },
    {
      "cell_type": "code",
      "source": [
        "!pip install streamlit"
      ],
      "metadata": {
        "id": "lWcf6mCHcldj"
      },
      "execution_count": null,
      "outputs": []
    },
    {
      "cell_type": "code",
      "source": [
        "#creating the app py\n",
        "\n",
        "%%writefile app.py\n",
        "\n",
        "import streamlit as st\n",
        "import tensorflow as tf\n",
        "import numpy as np\n",
        "\n",
        "@st.cache_resource\n",
        "def load_model():\n",
        "  model=tf.keras.models.load_model('respiratory_trained')\n",
        "  return model\n",
        "model=load_model()\n",
        "st.write(\"\"\"\n",
        "# Respiratory Disease Detection\"\"\"\n",
        ")\n",
        "file=st.file_uploader(\"Insert Chest X-ray\",type=[\"jpg\",\"png\"])\n",
        "\n",
        "import cv2\n",
        "from PIL import Image,ImageOps\n",
        "import numpy as np\n",
        "def import_and_predict(image_data,model):\n",
        "    size=(150,150)\n",
        "    image=ImageOps.fit(image_data,size, Image.Resampling.LANCZOS)\n",
        "    img=np.asarray(image)\n",
        "    img_reshape=img[np.newaxis,...]\n",
        "    prediction=model.predict(img_reshape)\n",
        "    return prediction\n",
        "if file is None:\n",
        "    st.text(\"Please upload an image file\")\n",
        "else:\n",
        "    image=Image.open(file)\n",
        "    st.image(image,use_column_width=True)\n",
        "    prediction=import_and_predict(image,model)\n",
        "    class_names=['Normal', 'Viral Pneumonia']\n",
        "    string=\"OUTPUT : \"+class_names[np.argmax(prediction)]\n",
        "    st.success(string)"
      ],
      "metadata": {
        "id": "OFMs6I17cWFc"
      },
      "execution_count": null,
      "outputs": []
    }
  ]
}
